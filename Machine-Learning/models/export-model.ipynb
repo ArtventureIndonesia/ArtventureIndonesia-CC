{
 "cells": [
  {
   "cell_type": "code",
   "execution_count": null,
   "metadata": {},
   "outputs": [],
   "source": [
    "!pip install tensorflow tensorflowjs"
   ]
  },
  {
   "cell_type": "code",
   "execution_count": null,
   "metadata": {},
   "outputs": [],
   "source": [
    "from tensorflow.keras.models import load_model\n",
    "model.save('model.h5')\n",
    "print('Model Saved!')\n",
    "\n",
    "# load model\n",
    "savedModel=load_model('model.h5')\n",
    "savedModel.summary()"
   ]
  },
  {
   "cell_type": "code",
   "execution_count": null,
   "metadata": {},
   "outputs": [],
   "source": [
    "from tensorflow.keras.models import load_model\n",
    "import tensorflowjs as tfjs\n",
    "\n",
    "model_path = load_model(\"model.h5\")\n",
    "output_path = \"modelJSON\"\n",
    "\n",
    "tfjs.converters.save_keras_model(model_path, output_path)"
   ]
  }
 ],
 "metadata": {
  "language_info": {
   "name": "python"
  }
 },
 "nbformat": 4,
 "nbformat_minor": 2
}
