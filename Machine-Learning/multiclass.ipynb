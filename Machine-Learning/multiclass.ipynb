{
 "cells": [
  {
   "cell_type": "code",
   "execution_count": 28,
   "metadata": {},
   "outputs": [
    {
     "name": "stdout",
     "output_type": "stream",
     "text": [
      "Found 4188 images belonging to 13 classes.\n",
      "Found 1794 images belonging to 13 classes.\n"
     ]
    }
   ],
   "source": [
    "import tensorflow as tf\n",
    "from tensorflow.keras.models import Sequential\n",
    "from tensorflow.keras.layers import Conv2D, MaxPooling2D, Flatten, Dense, Dropout\n",
    "from tensorflow.keras.preprocessing.image import ImageDataGenerator\n",
    "import numpy as np\n",
    "from tensorflow.keras.optimizers import RMSprop\n",
    "\n",
    "data_dir = 'D:/DatasetMuseumFix/'\n",
    "\n",
    "# Image data generator with rescaling\n",
    "datagen = ImageDataGenerator(rescale=1./255, validation_split=0.3)\n",
    "\n",
    "# Training dataset\n",
    "train_generator = datagen.flow_from_directory(\n",
    "    data_dir,\n",
    "    target_size=(224, 224),\n",
    "    batch_size=32,\n",
    "    class_mode='categorical',  \n",
    "    subset='training'\n",
    ")\n",
    "\n",
    "# Validation dataset\n",
    "validation_generator = datagen.flow_from_directory(\n",
    "    data_dir,\n",
    "    target_size=(224, 224),\n",
    "    batch_size=32,\n",
    "    class_mode='categorical',  \n",
    "    subset='validation'\n",
    ")\n"
   ]
  },
  {
   "cell_type": "code",
   "execution_count": 29,
   "metadata": {},
   "outputs": [
    {
     "name": "stdout",
     "output_type": "stream",
     "text": [
      "Epoch 1/20\n",
      "131/131 [==============================] - 535s 4s/step - loss: 0.7464 - accuracy: 0.7911 - val_loss: 1.0666 - val_accuracy: 0.6656\n",
      "Epoch 2/20\n",
      "131/131 [==============================] - 462s 4s/step - loss: 0.1150 - accuracy: 0.9656 - val_loss: 0.9276 - val_accuracy: 0.8690\n",
      "Epoch 3/20\n",
      "131/131 [==============================] - 521s 4s/step - loss: 0.0948 - accuracy: 0.9713 - val_loss: 1.5438 - val_accuracy: 0.8099\n",
      "Epoch 4/20\n",
      "131/131 [==============================] - 543s 4s/step - loss: 0.0498 - accuracy: 0.9864 - val_loss: 0.9914 - val_accuracy: 0.8540\n",
      "Epoch 5/20\n",
      "131/131 [==============================] - 488s 4s/step - loss: 0.0273 - accuracy: 0.9924 - val_loss: 0.8869 - val_accuracy: 0.8902\n",
      "Epoch 6/20\n",
      "131/131 [==============================] - 598s 5s/step - loss: 0.0248 - accuracy: 0.9928 - val_loss: 1.2074 - val_accuracy: 0.8456\n",
      "Epoch 7/20\n",
      "131/131 [==============================] - 706s 5s/step - loss: 0.0173 - accuracy: 0.9962 - val_loss: 0.9292 - val_accuracy: 0.8735\n",
      "Epoch 8/20\n",
      "131/131 [==============================] - 636s 5s/step - loss: 0.0278 - accuracy: 0.9921 - val_loss: 1.6826 - val_accuracy: 0.7681\n",
      "Epoch 9/20\n",
      "131/131 [==============================] - 594s 5s/step - loss: 0.0153 - accuracy: 0.9952 - val_loss: 1.8407 - val_accuracy: 0.7971\n",
      "Epoch 10/20\n",
      "131/131 [==============================] - 486s 4s/step - loss: 0.0931 - accuracy: 0.9747 - val_loss: 1.4397 - val_accuracy: 0.8361\n",
      "Epoch 11/20\n",
      "131/131 [==============================] - 472s 4s/step - loss: 0.0356 - accuracy: 0.9895 - val_loss: 1.3957 - val_accuracy: 0.8768\n",
      "Epoch 12/20\n",
      "131/131 [==============================] - 525s 4s/step - loss: 0.0190 - accuracy: 0.9952 - val_loss: 1.4370 - val_accuracy: 0.8166\n",
      "Epoch 13/20\n",
      "131/131 [==============================] - 458s 4s/step - loss: 0.0069 - accuracy: 0.9988 - val_loss: 1.2969 - val_accuracy: 0.8662\n",
      "Epoch 14/20\n",
      "131/131 [==============================] - 430s 3s/step - loss: 0.0044 - accuracy: 0.9990 - val_loss: 2.1325 - val_accuracy: 0.8333\n",
      "Epoch 15/20\n",
      "131/131 [==============================] - 429s 3s/step - loss: 0.0316 - accuracy: 0.9931 - val_loss: 1.0584 - val_accuracy: 0.8551\n",
      "Epoch 16/20\n",
      "131/131 [==============================] - 428s 3s/step - loss: 0.0380 - accuracy: 0.9893 - val_loss: 1.6759 - val_accuracy: 0.8473\n",
      "Epoch 17/20\n",
      "131/131 [==============================] - 431s 3s/step - loss: 0.0257 - accuracy: 0.9938 - val_loss: 1.4123 - val_accuracy: 0.8701\n",
      "Epoch 18/20\n",
      "131/131 [==============================] - 431s 3s/step - loss: 0.0104 - accuracy: 0.9969 - val_loss: 2.0059 - val_accuracy: 0.8579\n",
      "Epoch 19/20\n",
      "131/131 [==============================] - 432s 3s/step - loss: 0.0176 - accuracy: 0.9947 - val_loss: 1.7256 - val_accuracy: 0.8055\n",
      "Epoch 20/20\n",
      "131/131 [==============================] - 437s 3s/step - loss: 0.0055 - accuracy: 0.9974 - val_loss: 2.0458 - val_accuracy: 0.8428\n"
     ]
    }
   ],
   "source": [
    "model = Sequential()\n",
    "model.add(Conv2D(32, (3, 3), activation='relu', input_shape=(224, 224, 3)))\n",
    "model.add(MaxPooling2D(pool_size=(2, 2)))\n",
    "model.add(Conv2D(64, (3, 3), activation='relu'))\n",
    "model.add(MaxPooling2D(pool_size=(2, 2)))\n",
    "model.add(Conv2D(128, (3, 3), activation='relu'))\n",
    "model.add(MaxPooling2D(pool_size=(2, 2)))\n",
    "model.add(Flatten())\n",
    "model.add(Dense(256, activation='relu'))\n",
    "model.add(Dropout(0.5))\n",
    "model.add(Dense(13, activation='softmax'))  \n",
    "\n",
    "model.compile(optimizer='adam', loss='categorical_crossentropy', metrics=['accuracy'])\n",
    "\n",
    "history = model.fit(\n",
    "    train_generator,\n",
    "    epochs=20,\n",
    "    validation_data=validation_generator\n",
    ")\n"
   ]
  },
  {
   "cell_type": "code",
   "execution_count": 46,
   "metadata": {},
   "outputs": [
    {
     "name": "stdout",
     "output_type": "stream",
     "text": [
      "Model: \"sequential_1\"\n",
      "_________________________________________________________________\n",
      " Layer (type)                Output Shape              Param #   \n",
      "=================================================================\n",
      " conv2d_3 (Conv2D)           (None, 222, 222, 32)      896       \n",
      "                                                                 \n",
      " max_pooling2d_3 (MaxPooling  (None, 111, 111, 32)     0         \n",
      " 2D)                                                             \n",
      "                                                                 \n",
      " conv2d_4 (Conv2D)           (None, 109, 109, 64)      18496     \n",
      "                                                                 \n",
      " max_pooling2d_4 (MaxPooling  (None, 54, 54, 64)       0         \n",
      " 2D)                                                             \n",
      "                                                                 \n",
      " conv2d_5 (Conv2D)           (None, 52, 52, 128)       73856     \n",
      "                                                                 \n",
      " max_pooling2d_5 (MaxPooling  (None, 26, 26, 128)      0         \n",
      " 2D)                                                             \n",
      "                                                                 \n",
      " flatten_1 (Flatten)         (None, 86528)             0         \n",
      "                                                                 \n",
      " dense_2 (Dense)             (None, 256)               22151424  \n",
      "                                                                 \n",
      " dropout_1 (Dropout)         (None, 256)               0         \n",
      "                                                                 \n",
      " dense_3 (Dense)             (None, 13)                3341      \n",
      "                                                                 \n",
      "=================================================================\n",
      "Total params: 22,248,013\n",
      "Trainable params: 22,248,013\n",
      "Non-trainable params: 0\n",
      "_________________________________________________________________\n"
     ]
    }
   ],
   "source": [
    "model.summary()"
   ]
  },
  {
   "cell_type": "code",
   "execution_count": 51,
   "metadata": {},
   "outputs": [
    {
     "data": {
      "image/png": "[encoded data removed]",
      "text/plain": [
       "<Figure size 640x480 with 1 Axes>"
      ]
     },
     "metadata": {},
     "output_type": "display_data"
    }
   ],
   "source": [
    "import matplotlib.pyplot as plt\n",
    "\n",
    "plt.plot(history.history['accuracy'])\n",
    "plt.plot(history.history['val_accuracy'])\n",
    "plt.title('Model accuracy')\n",
    "plt.xlabel('Epoch')\n",
    "plt.ylabel('Accuracy')\n",
    "plt.legend(['Train', 'Validation'], loc='upper left')\n",
    "plt.ylim([0, 1])\n",
    "plt.show()\n"
   ]
  },
  {
   "cell_type": "code",
   "execution_count": 54,
   "metadata": {},
   "outputs": [
    {
     "data": {
      "image/png": "[encoded data removed]",
      "text/plain": [
       "<Figure size 640x480 with 1 Axes>"
      ]
     },
     "metadata": {},
     "output_type": "display_data"
    }
   ],
   "source": [
    "plt.plot(history.history['loss'])\n",
    "plt.plot(history.history['val_loss'])\n",
    "plt.title('Model loss')\n",
    "plt.xlabel('Epoch')\n",
    "plt.ylabel('Loss')\n",
    "plt.legend(['Train', 'Validation'], loc='upper left')\n",
    "plt.ylim([0, 5])\n",
    "plt.show()"
   ]
  },
  {
   "cell_type": "code",
   "execution_count": 40,
   "metadata": {},
   "outputs": [
    {
     "name": "stdout",
     "output_type": "stream",
     "text": [
      "1/1 [==============================] - 0s 83ms/step\n",
      "Predicted Class: 11\n",
      "Painting Menyambut Proklamasi Kemerdekaan RI\n"
     ]
    }
   ],
   "source": [
    "from PIL import Image\n",
    "import os\n",
    "\n",
    "\n",
    "path = 'D:/DatasetMuseum/PaintingMenyambutProklamasiKemerdekaanRI/00190.jpg'\n",
    "\n",
    "img = Image.open(path).convert('RGB')\n",
    "img = img.resize((224, 224))\n",
    "img_array = np.array(img) / 255.0 \n",
    "img_array = np.expand_dims(img_array, axis=0) \n",
    "predictions = model.predict(img_array)\n",
    "predicted_class = np.argmax(predictions)\n",
    "print(\"Predicted Class:\", predicted_class)\n",
    "\n",
    "if predicted_class==1:\n",
    "    print(\"Bali Following Independence\")\n",
    "elif predicted_class==2:\n",
    "    print(\"Dang Hyang Nirartha\")\n",
    "elif predicted_class==3:\n",
    "    print(\"Sagung Wah In Preparation To Attack The Dutch\")\n",
    "elif predicted_class==4:\n",
    "    print(\"Spreading The News of The Proclamation of Indonesia\")\n",
    "elif predicted_class==5:\n",
    "    print(\"The Battle of Jagaraga\")\n",
    "elif predicted_class==6:\n",
    "    print(\"The Crowning Of Sri Kresna Kepakisan\")\n",
    "elif predicted_class==7:\n",
    "    print(\"The Establishment Of Indonesian People Struggling Board Of Sunda Kecil\")\n",
    "elif predicted_class==8:\n",
    "    print(\"The Naval Battle In Bali Strait\")\n",
    "elif predicted_class==9:\n",
    "    print(\"The Rise Of Youth Organization\")\n",
    "elif predicted_class==10:\n",
    "    print(\"Painting I Gusti Ngurah Rai\")\n",
    "elif predicted_class==11:\n",
    "    print(\"Painting Menyambut Proklamasi Kemerdekaan RI\")\n",
    "elif predicted_class==12:\n",
    "    print(\"Painting Ngurah Rai Mengatur Siasat Tempur\")\n",
    "else:\n",
    "    print(\"RandomData\")"
   ]
  },
  {
   "cell_type": "code",
   "execution_count": 44,
   "metadata": {},
   "outputs": [
    {
     "name": "stdout",
     "output_type": "stream",
     "text": [
      "D:/TestingGambarRandom/sculpture\n",
      "1/1 [==============================] - 0s 76ms/step\n",
      "Predicted Class: 10\n",
      "Painting I Gusti Ngurah Rai\n",
      "1/1 [==============================] - 0s 75ms/step\n",
      "Predicted Class: 0\n",
      "RandomData\n",
      "1/1 [==============================] - 0s 66ms/step\n",
      "Predicted Class: 0\n",
      "RandomData\n",
      "1/1 [==============================] - 0s 71ms/step\n",
      "Predicted Class: 0\n",
      "RandomData\n",
      "1/1 [==============================] - 0s 73ms/step\n",
      "Predicted Class: 0\n",
      "RandomData\n",
      "1/1 [==============================] - 0s 67ms/step\n",
      "Predicted Class: 0\n",
      "RandomData\n",
      "1/1 [==============================] - 0s 78ms/step\n",
      "Predicted Class: 11\n",
      "Painting Menyambut Proklamasi Kemerdekaan RI\n",
      "1/1 [==============================] - 0s 83ms/step\n",
      "Predicted Class: 0\n",
      "RandomData\n",
      "1/1 [==============================] - 0s 80ms/step\n",
      "Predicted Class: 0\n",
      "RandomData\n",
      "1/1 [==============================] - 0s 100ms/step\n",
      "Predicted Class: 0\n",
      "RandomData\n",
      "1/1 [==============================] - 0s 76ms/step\n",
      "Predicted Class: 0\n",
      "RandomData\n",
      "1/1 [==============================] - 0s 85ms/step\n",
      "Predicted Class: 0\n",
      "RandomData\n",
      "1/1 [==============================] - 0s 77ms/step\n",
      "Predicted Class: 0\n",
      "RandomData\n",
      "1/1 [==============================] - 0s 67ms/step\n",
      "Predicted Class: 0\n",
      "RandomData\n",
      "1/1 [==============================] - 0s 85ms/step\n",
      "Predicted Class: 0\n",
      "RandomData\n",
      "1/1 [==============================] - 0s 74ms/step\n",
      "Predicted Class: 0\n",
      "RandomData\n",
      "1/1 [==============================] - 0s 81ms/step\n",
      "Predicted Class: 0\n",
      "RandomData\n",
      "1/1 [==============================] - 0s 86ms/step\n",
      "Predicted Class: 11\n",
      "Painting Menyambut Proklamasi Kemerdekaan RI\n",
      "1/1 [==============================] - 0s 74ms/step\n",
      "Predicted Class: 0\n",
      "RandomData\n",
      "1/1 [==============================] - 0s 78ms/step\n",
      "Predicted Class: 0\n",
      "RandomData\n",
      "1/1 [==============================] - 0s 82ms/step\n",
      "Predicted Class: 0\n",
      "RandomData\n",
      "1/1 [==============================] - 0s 84ms/step\n",
      "Predicted Class: 0\n",
      "RandomData\n",
      "1/1 [==============================] - 0s 82ms/step\n",
      "Predicted Class: 10\n",
      "Painting I Gusti Ngurah Rai\n",
      "1/1 [==============================] - 0s 75ms/step\n",
      "Predicted Class: 0\n",
      "RandomData\n",
      "1/1 [==============================] - 0s 80ms/step\n",
      "Predicted Class: 0\n",
      "RandomData\n",
      "1/1 [==============================] - 0s 63ms/step\n",
      "Predicted Class: 0\n",
      "RandomData\n",
      "1/1 [==============================] - 0s 75ms/step\n",
      "Predicted Class: 0\n",
      "RandomData\n",
      "1/1 [==============================] - 0s 83ms/step\n"
     ]
    }
   ],
   "source": [
    "folder = 'D:/TestingGambarRandom/sculpture'\n",
    "dirs = os.listdir(folder)\n",
    "print(folder)\n",
    "\n",
    "for item in dirs:\n",
    "    fullpath = os.path.join(folder, item)\n",
    "    if os.path.isfile(fullpath):\n",
    "        img = Image.open(fullpath).convert('RGB')\n",
    "        img = img.resize((224, 224))\n",
    "        img_array = np.array(img) / 255.0 \n",
    "        img_array = np.expand_dims(img_array, axis=0)\n",
    "        predictions = model.predict(img_array)\n",
    "        predicted_class = np.argmax(predictions)\n",
    "        print(\"Predicted Class:\", predicted_class)\n",
    "\n",
    "        if predicted_class==1:\n",
    "            print(\"Bali Following Independence\")\n",
    "        elif predicted_class==2:\n",
    "            print(\"Dang Hyang Nirartha\")\n",
    "        elif predicted_class==3:\n",
    "            print(\"Sagung Wah In Preparation To Attack The Dutch\")\n",
    "        elif predicted_class==4:\n",
    "            print(\"Spreading The News of The Proclamation of Indonesia\")\n",
    "        elif predicted_class==5:\n",
    "            print(\"The Battle of Jagaraga\")\n",
    "        elif predicted_class==6:\n",
    "            print(\"The Crowning Of Sri Kresna Kepakisan\")\n",
    "        elif predicted_class==7:\n",
    "            print(\"The Establishment Of Indonesian People Struggling Board Of Sunda Kecil\")\n",
    "        elif predicted_class==8:\n",
    "            print(\"The Naval Battle In Bali Strait\")\n",
    "        elif predicted_class==9:\n",
    "            print(\"The Rise Of Youth Organization\")\n",
    "        elif predicted_class==10:\n",
    "            print(\"Painting I Gusti Ngurah Rai\")\n",
    "        elif predicted_class==11:\n",
    "            print(\"Painting Menyambut Proklamasi Kemerdekaan RI\")\n",
    "        elif predicted_class==12:\n",
    "            print(\"Painting Ngurah Rai Mengatur Siasat Tempur\")\n",
    "        else:\n",
    "            print(\"RandomData\")"
   ]
  },
  {
   "cell_type": "code",
   "execution_count": 48,
   "metadata": {},
   "outputs": [],
   "source": [
    "from tensorflow.keras.models import load_model\n",
    "\n",
    "model.save('test_model.h5')\n",
    "loaded_model = load_model('test_model.h5')"
   ]
  },
  {
   "cell_type": "code",
   "execution_count": 49,
   "metadata": {},
   "outputs": [
    {
     "name": "stderr",
     "output_type": "stream",
     "text": [
      "WARNING:absl:Found untraced functions such as _jit_compiled_convolution_op, _jit_compiled_convolution_op, _jit_compiled_convolution_op, _update_step_xla while saving (showing 4 of 4). These functions will not be directly callable after loading.\n"
     ]
    },
    {
     "name": "stdout",
     "output_type": "stream",
     "text": [
      "INFO:tensorflow:Assets written to: C:/Users/user/miniconda3/CapstoneProject\\assets\n"
     ]
    },
    {
     "name": "stderr",
     "output_type": "stream",
     "text": [
      "INFO:tensorflow:Assets written to: C:/Users/user/miniconda3/CapstoneProject\\assets\n"
     ]
    },
    {
     "data": {
      "text/plain": [
       "88996232"
      ]
     },
     "execution_count": 49,
     "metadata": {},
     "output_type": "execute_result"
    }
   ],
   "source": [
    "import pathlib\n",
    "\n",
    "export_dir = 'C:/Users/user/miniconda3/CapstoneProject'\n",
    "tf.saved_model.save(model, export_dir)\n",
    "\n",
    "converter = tf.lite.TFLiteConverter.from_saved_model(export_dir)\n",
    "tflite_model = converter.convert()\n",
    "\n",
    "tflite_model_file = pathlib.Path('C:/Users/user/miniconda3/CapstoneProject/test.tflite')\n",
    "tflite_model_file.write_bytes(tflite_model)"
   ]
  }
 ],
 "metadata": {
  "kernelspec": {
   "display_name": "Python 3",
   "language": "python",
   "name": "python3"
  },
  "language_info": {
   "codemirror_mode": {
    "name": "ipython",
    "version": 3
   },
   "file_extension": ".py",
   "mimetype": "text/x-python",
   "name": "python",
   "nbconvert_exporter": "python",
   "pygments_lexer": "ipython3",
   "version": "3.10.7"
  }
 },
 "nbformat": 4,
 "nbformat_minor": 2
}
